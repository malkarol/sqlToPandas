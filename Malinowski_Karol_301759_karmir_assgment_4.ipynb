{
 "cells": [
  {
   "cell_type": "markdown",
   "id": "indoor-trainer",
   "metadata": {},
   "source": [
    "# 1. Introduction.\n",
    "In this project I was working on a simplified dump of anonymized data from the travel forum on stackexchange https://travel.stackexchange.com/, which consists of 8 tables:\n",
    "- Badges\n",
    "- Comments\n",
    "- PostHistory\n",
    "- Post Links\n",
    "- Posts\n",
    "- Tags\n",
    "- Users\n",
    "- Votes\n",
    "\n",
    "Each data frame consists of many columns, where some of them connects tables with each other by some key column. In this project I will use pandas built-in functions to recreate given SQL queries and pandas.read_sql_query() function in order to check my solution."
   ]
  },
  {
   "cell_type": "markdown",
   "id": "surrounded-aluminum",
   "metadata": {},
   "source": [
    "# 2. Loading data sets."
   ]
  },
  {
   "cell_type": "code",
   "execution_count": 35,
   "id": "honey-impossible",
   "metadata": {},
   "outputs": [],
   "source": [
    "import pandas as pd\n",
    "import numpy as np\n",
    "import os, os.path\n",
    "import sqlite3\n",
    "import tempfile\n",
    "\n",
    "#READING CSV FILES INTO THE MEMORY\n",
    "Badges = pd.read_csv(\"travel_simple_frames/Badges.csv.gz\",compression=\"gzip\")\n",
    "Comments = pd.read_csv(\"travel_simple_frames/Comments.csv.gz\",compression=\"gzip\")\n",
    "PostLinks = pd.read_csv(\"travel_simple_frames/PostLinks.csv.gz\",compression=\"gzip\")\n",
    "Posts = pd.read_csv(\"travel_simple_frames/Posts.csv.gz\",compression=\"gzip\")\n",
    "Tags = pd.read_csv(\"travel_simple_frames/Tags.csv.gz\",compression=\"gzip\")\n",
    "Users = pd.read_csv(\"travel_simple_frames/Users.csv.gz\",compression=\"gzip\")\n",
    "Votes = pd.read_csv(\"travel_simple_frames/Votes.csv.gz\",compression=\"gzip\")"
   ]
  },
  {
   "cell_type": "markdown",
   "id": "optical-sheffield",
   "metadata": {},
   "source": [
    "In the next step I established a connection with a temporal database in order to be able to execute reference solution."
   ]
  },
  {
   "cell_type": "code",
   "execution_count": 36,
   "id": "serial-sustainability",
   "metadata": {},
   "outputs": [],
   "source": [
    "#INITIALIZING TEMPORTAL DATABASE\n",
    "db = os.path.join(tempfile.mkdtemp(), 'temporaldb.db')\n",
    "\n",
    "#If file already exists, we delete it\n",
    "if os.path.isfile(db):\n",
    "    os.remove(db)\n",
    "#Connect to database\n",
    "conn = sqlite3.connect(db)\n",
    "\n",
    "#Import tables\n",
    "Badges.to_sql(\"Badges\",conn)\n",
    "Comments.to_sql(\"Comments\",conn)\n",
    "PostLinks.to_sql(\"PostLinks\",conn)\n",
    "Posts.to_sql(\"Posts\",conn)\n",
    "Tags.to_sql(\"Tags\",conn)\n",
    "Users.to_sql(\"Users\",conn)\n",
    "Votes.to_sql(\"Votes\",conn)"
   ]
  },
  {
   "cell_type": "markdown",
   "id": "japanese-roman",
   "metadata": {},
   "source": [
    "# 3. SQL queries solutions.\n",
    "## 3.1. First query."
   ]
  },
  {
   "cell_type": "markdown",
   "id": "objective-escape",
   "metadata": {},
   "source": [
    "### Reference solution:"
   ]
  },
  {
   "cell_type": "code",
   "execution_count": 37,
   "id": "chubby-transsexual",
   "metadata": {},
   "outputs": [],
   "source": [
    "first_sql = pd.read_sql_query(\"\"\"\n",
    "                  SELECT Posts.Title, RelatedTab.NumLinks\n",
    "                  FROM\n",
    "                      (SELECT RelatedPostId AS PostId, COUNT(*) AS NumLinks\n",
    "                       FROM PostLinks\n",
    "                       GROUP BY RelatedPostId) AS RelatedTab\n",
    "                  JOIN Posts ON RelatedTab.PostId=Posts.Id\n",
    "                  WHERE Posts.PostTypeId=1\n",
    "                  ORDER BY NumLinks DESC\n",
    "                  \"\"\",conn)"
   ]
  },
  {
   "cell_type": "markdown",
   "id": "wooden-suicide",
   "metadata": {},
   "source": [
    "### Pandas functions solutions:"
   ]
  },
  {
   "cell_type": "code",
   "execution_count": 38,
   "id": "bizarre-bonus",
   "metadata": {},
   "outputs": [],
   "source": [
    "#At first I execute inner query by finding the count(*) and selecting PostId\n",
    "Related_Tab = PostLinks.groupby(\"RelatedPostId\").size().to_frame('NumLinks') \\\n",
    ".reset_index().rename(columns={'RelatedPostId':'PostId'})\n",
    "\n",
    "#Next I filter Posts table and do the join with Related_Tab\n",
    "Posts_where = Posts[Posts['PostTypeId']==1]\n",
    "join_query = pd.merge(Related_Tab, Posts_where, left_on='PostId',right_on='Id')\n",
    "\n",
    "#Lastly I select required columns and order rows by NumLinks using mergesort to\n",
    "#preserve row order\n",
    "select_query = join_query[['Title','NumLinks']]\n",
    "order_query = select_query.sort_values(by='NumLinks', \n",
    "                        kind='mergesort', ascending = False) \\\n",
    "                        .reset_index(drop=True)"
   ]
  },
  {
   "cell_type": "markdown",
   "id": "seeing-greene",
   "metadata": {},
   "source": [
    "The solution query result looks as follows:"
   ]
  },
  {
   "cell_type": "code",
   "execution_count": 39,
   "id": "transparent-reproduction",
   "metadata": {
    "scrolled": true
   },
   "outputs": [
    {
     "data": {
      "text/html": [
       "<div>\n",
       "<style scoped>\n",
       "    .dataframe tbody tr th:only-of-type {\n",
       "        vertical-align: middle;\n",
       "    }\n",
       "\n",
       "    .dataframe tbody tr th {\n",
       "        vertical-align: top;\n",
       "    }\n",
       "\n",
       "    .dataframe thead th {\n",
       "        text-align: right;\n",
       "    }\n",
       "</style>\n",
       "<table border=\"1\" class=\"dataframe\">\n",
       "  <thead>\n",
       "    <tr style=\"text-align: right;\">\n",
       "      <th></th>\n",
       "      <th>Title</th>\n",
       "      <th>NumLinks</th>\n",
       "    </tr>\n",
       "  </thead>\n",
       "  <tbody>\n",
       "    <tr>\n",
       "      <th>0</th>\n",
       "      <td>Is there a way to find out if I need a transit...</td>\n",
       "      <td>594</td>\n",
       "    </tr>\n",
       "    <tr>\n",
       "      <th>1</th>\n",
       "      <td>Do I need a visa to transit (or layover) in th...</td>\n",
       "      <td>585</td>\n",
       "    </tr>\n",
       "    <tr>\n",
       "      <th>2</th>\n",
       "      <td>Should my first trip be to the country which i...</td>\n",
       "      <td>331</td>\n",
       "    </tr>\n",
       "    <tr>\n",
       "      <th>3</th>\n",
       "      <td>Should I submit bank statements when applying ...</td>\n",
       "      <td>259</td>\n",
       "    </tr>\n",
       "    <tr>\n",
       "      <th>4</th>\n",
       "      <td>How much electronics and other valuables can I...</td>\n",
       "      <td>197</td>\n",
       "    </tr>\n",
       "    <tr>\n",
       "      <th>5</th>\n",
       "      <td>How does the Schengen 90/180 rule work?</td>\n",
       "      <td>192</td>\n",
       "    </tr>\n",
       "  </tbody>\n",
       "</table>\n",
       "</div>"
      ],
      "text/plain": [
       "                                               Title  NumLinks\n",
       "0  Is there a way to find out if I need a transit...       594\n",
       "1  Do I need a visa to transit (or layover) in th...       585\n",
       "2  Should my first trip be to the country which i...       331\n",
       "3  Should I submit bank statements when applying ...       259\n",
       "4  How much electronics and other valuables can I...       197\n",
       "5            How does the Schengen 90/180 rule work?       192"
      ]
     },
     "execution_count": 39,
     "metadata": {},
     "output_type": "execute_result"
    }
   ],
   "source": [
    "order_query.head(6)"
   ]
  },
  {
   "cell_type": "markdown",
   "id": "tribal-bottle",
   "metadata": {},
   "source": [
    "Lastly I compared my solution with the reference one and the obtained result is positive:"
   ]
  },
  {
   "cell_type": "code",
   "execution_count": 40,
   "id": "micro-partner",
   "metadata": {},
   "outputs": [
    {
     "data": {
      "text/plain": [
       "True"
      ]
     },
     "execution_count": 40,
     "metadata": {},
     "output_type": "execute_result"
    }
   ],
   "source": [
    "first_sql.equals(order_query)"
   ]
  },
  {
   "cell_type": "markdown",
   "id": "extraordinary-nursery",
   "metadata": {},
   "source": [
    "## 3.2. Second query.\n",
    "### Reference solution:"
   ]
  },
  {
   "cell_type": "code",
   "execution_count": 41,
   "id": "stuffed-billy",
   "metadata": {},
   "outputs": [],
   "source": [
    "second_sql = pd.read_sql_query(\"\"\"\n",
    "                               SELECT\n",
    "                                   Users.DisplayName,\n",
    "                                   Users.Age,\n",
    "                                   Users.Location,\n",
    "                                   SUM(Posts.FavoriteCount) AS FavoriteTotal,\n",
    "                                   Posts.Title AS MostFavoriteQuestion,\n",
    "                                   MAX(Posts.FavoriteCount) \n",
    "                                       AS MostFavoriteQuestionLikes\n",
    "                                   FROM Posts\n",
    "                                   JOIN Users ON Users.Id=Posts.OwnerUserId\n",
    "                                   WHERE Posts.PostTypeId=1\n",
    "                                   GROUP BY OwnerUserId\n",
    "                                   ORDER BY FavoriteTotal DESC\n",
    "                                   LIMIT 10\n",
    "                               \"\"\",conn)"
   ]
  },
  {
   "cell_type": "markdown",
   "id": "vertical-garden",
   "metadata": {},
   "source": [
    "### Pandas functions solutions:"
   ]
  },
  {
   "cell_type": "code",
   "execution_count": 42,
   "id": "silent-anderson",
   "metadata": {},
   "outputs": [],
   "source": [
    "#I start with filtering the Posts table and joining to it Users table\n",
    "Posts_where1 = Posts[Posts['PostTypeId']==1]\n",
    "join_query1 = pd.merge(Users,Posts_where1,\n",
    "                       left_on='Id', \n",
    "                       right_on='OwnerUserId')\n",
    "\n",
    "#Then I assign a new column - 'FavoriteCount' which is a sum of OwnerUserId entries\n",
    "join_query1['FavoriteTotal'] = join_query1.groupby('OwnerUserId')['FavoriteCount'] \\\n",
    "                        .transform('sum')\n",
    "\n",
    "#Next I group the table by OwnerUserId and calculate max in every group while\n",
    "#storing the indices with FavoriteCount = max of a group\n",
    "max_query = join_query1.groupby(['OwnerUserId'])['FavoriteCount'] \\\n",
    "                        .transform('max') == join_query1['FavoriteCount']\n",
    "\n",
    "#Lastly I rename the column, select them, sort the values by FavoriteTotal and lastly\n",
    "#take the top 10 values in a dataframe\n",
    "order_query1 = join_query1[max_query].rename(\n",
    "    columns={'Title':'MostFavoriteQuestion','FavoriteCount':'MostFavoriteQuestionLikes'})\n",
    "order_query1 = order_query1[['DisplayName','Age','Location','FavoriteTotal',\n",
    "                              'MostFavoriteQuestion','MostFavoriteQuestionLikes']]\n",
    "order_query1 = order_query1.sort_values('FavoriteTotal',ascending=False) \\\n",
    "                            .head(10).reset_index(drop=True)"
   ]
  },
  {
   "cell_type": "markdown",
   "id": "experimental-appearance",
   "metadata": {},
   "source": [
    "The solution query result looks as follows:"
   ]
  },
  {
   "cell_type": "code",
   "execution_count": 43,
   "id": "spatial-korean",
   "metadata": {},
   "outputs": [
    {
     "data": {
      "text/html": [
       "<div>\n",
       "<style scoped>\n",
       "    .dataframe tbody tr th:only-of-type {\n",
       "        vertical-align: middle;\n",
       "    }\n",
       "\n",
       "    .dataframe tbody tr th {\n",
       "        vertical-align: top;\n",
       "    }\n",
       "\n",
       "    .dataframe thead th {\n",
       "        text-align: right;\n",
       "    }\n",
       "</style>\n",
       "<table border=\"1\" class=\"dataframe\">\n",
       "  <thead>\n",
       "    <tr style=\"text-align: right;\">\n",
       "      <th></th>\n",
       "      <th>DisplayName</th>\n",
       "      <th>Age</th>\n",
       "      <th>Location</th>\n",
       "      <th>FavoriteTotal</th>\n",
       "      <th>MostFavoriteQuestion</th>\n",
       "      <th>MostFavoriteQuestionLikes</th>\n",
       "    </tr>\n",
       "  </thead>\n",
       "  <tbody>\n",
       "    <tr>\n",
       "      <th>0</th>\n",
       "      <td>Mark Mayo</td>\n",
       "      <td>37.0</td>\n",
       "      <td>Sydney, New South Wales, Australia</td>\n",
       "      <td>467.0</td>\n",
       "      <td>Tactics to avoid getting harassed by corrupt p...</td>\n",
       "      <td>42.0</td>\n",
       "    </tr>\n",
       "    <tr>\n",
       "      <th>1</th>\n",
       "      <td>hippietrail</td>\n",
       "      <td>NaN</td>\n",
       "      <td>Oaxaca, Mexico</td>\n",
       "      <td>444.0</td>\n",
       "      <td>OK we're all adults here, so really, how on ea...</td>\n",
       "      <td>79.0</td>\n",
       "    </tr>\n",
       "    <tr>\n",
       "      <th>2</th>\n",
       "      <td>RoflcoptrException</td>\n",
       "      <td>NaN</td>\n",
       "      <td>NaN</td>\n",
       "      <td>294.0</td>\n",
       "      <td>How to avoid drinking vodka?</td>\n",
       "      <td>29.0</td>\n",
       "    </tr>\n",
       "    <tr>\n",
       "      <th>3</th>\n",
       "      <td>JonathanReez</td>\n",
       "      <td>26.0</td>\n",
       "      <td>Prague, Czech Republic</td>\n",
       "      <td>221.0</td>\n",
       "      <td>What is the highest viewing spot in London tha...</td>\n",
       "      <td>17.0</td>\n",
       "    </tr>\n",
       "    <tr>\n",
       "      <th>4</th>\n",
       "      <td>nsn</td>\n",
       "      <td>NaN</td>\n",
       "      <td>NaN</td>\n",
       "      <td>214.0</td>\n",
       "      <td>How do airlines determine ticket prices?</td>\n",
       "      <td>40.0</td>\n",
       "    </tr>\n",
       "    <tr>\n",
       "      <th>5</th>\n",
       "      <td>Gagravarr</td>\n",
       "      <td>NaN</td>\n",
       "      <td>Oxford, United Kingdom</td>\n",
       "      <td>151.0</td>\n",
       "      <td>Are there other places with gardens like those...</td>\n",
       "      <td>10.0</td>\n",
       "    </tr>\n",
       "    <tr>\n",
       "      <th>6</th>\n",
       "      <td>Andrew Grimm</td>\n",
       "      <td>38.0</td>\n",
       "      <td>Sydney, Australia</td>\n",
       "      <td>120.0</td>\n",
       "      <td>OK we're all nerds here, so really, how on ear...</td>\n",
       "      <td>8.0</td>\n",
       "    </tr>\n",
       "    <tr>\n",
       "      <th>7</th>\n",
       "      <td>VMAtm</td>\n",
       "      <td>33.0</td>\n",
       "      <td>Tampa, FL, United States</td>\n",
       "      <td>109.0</td>\n",
       "      <td>Is there a good website to plan a trip via tra...</td>\n",
       "      <td>34.0</td>\n",
       "    </tr>\n",
       "    <tr>\n",
       "      <th>8</th>\n",
       "      <td>jrdioko</td>\n",
       "      <td>NaN</td>\n",
       "      <td>NaN</td>\n",
       "      <td>100.0</td>\n",
       "      <td>What is the most comfortable way to sleep on a...</td>\n",
       "      <td>21.0</td>\n",
       "    </tr>\n",
       "    <tr>\n",
       "      <th>9</th>\n",
       "      <td>Gayot Fow</td>\n",
       "      <td>NaN</td>\n",
       "      <td>London, United Kingdom</td>\n",
       "      <td>98.0</td>\n",
       "      <td>Should I submit bank statements when applying ...</td>\n",
       "      <td>18.0</td>\n",
       "    </tr>\n",
       "  </tbody>\n",
       "</table>\n",
       "</div>"
      ],
      "text/plain": [
       "          DisplayName   Age                            Location  \\\n",
       "0           Mark Mayo  37.0  Sydney, New South Wales, Australia   \n",
       "1         hippietrail   NaN                      Oaxaca, Mexico   \n",
       "2  RoflcoptrException   NaN                                 NaN   \n",
       "3        JonathanReez  26.0              Prague, Czech Republic   \n",
       "4                 nsn   NaN                                 NaN   \n",
       "5           Gagravarr   NaN              Oxford, United Kingdom   \n",
       "6        Andrew Grimm  38.0                   Sydney, Australia   \n",
       "7               VMAtm  33.0            Tampa, FL, United States   \n",
       "8             jrdioko   NaN                                 NaN   \n",
       "9           Gayot Fow   NaN              London, United Kingdom   \n",
       "\n",
       "   FavoriteTotal                               MostFavoriteQuestion  \\\n",
       "0          467.0  Tactics to avoid getting harassed by corrupt p...   \n",
       "1          444.0  OK we're all adults here, so really, how on ea...   \n",
       "2          294.0                       How to avoid drinking vodka?   \n",
       "3          221.0  What is the highest viewing spot in London tha...   \n",
       "4          214.0           How do airlines determine ticket prices?   \n",
       "5          151.0  Are there other places with gardens like those...   \n",
       "6          120.0  OK we're all nerds here, so really, how on ear...   \n",
       "7          109.0  Is there a good website to plan a trip via tra...   \n",
       "8          100.0  What is the most comfortable way to sleep on a...   \n",
       "9           98.0  Should I submit bank statements when applying ...   \n",
       "\n",
       "   MostFavoriteQuestionLikes  \n",
       "0                       42.0  \n",
       "1                       79.0  \n",
       "2                       29.0  \n",
       "3                       17.0  \n",
       "4                       40.0  \n",
       "5                       10.0  \n",
       "6                        8.0  \n",
       "7                       34.0  \n",
       "8                       21.0  \n",
       "9                       18.0  "
      ]
     },
     "execution_count": 43,
     "metadata": {},
     "output_type": "execute_result"
    }
   ],
   "source": [
    "order_query1"
   ]
  },
  {
   "cell_type": "markdown",
   "id": "circular-sister",
   "metadata": {},
   "source": [
    "Lastly I compared my solution with the reference one and the obtained result is positive:"
   ]
  },
  {
   "cell_type": "code",
   "execution_count": 44,
   "id": "spectacular-jersey",
   "metadata": {},
   "outputs": [
    {
     "data": {
      "text/plain": [
       "True"
      ]
     },
     "execution_count": 44,
     "metadata": {},
     "output_type": "execute_result"
    }
   ],
   "source": [
    "second_sql.equals(order_query1)"
   ]
  },
  {
   "cell_type": "markdown",
   "id": "sorted-canberra",
   "metadata": {},
   "source": [
    "# 3.3. Third query.\n",
    "### Reference solution:"
   ]
  },
  {
   "cell_type": "code",
   "execution_count": 45,
   "id": "broke-finance",
   "metadata": {},
   "outputs": [],
   "source": [
    "third_sql = pd.read_sql_query(\"\"\"\n",
    "                                SELECT\n",
    "                                    Posts.Title,\n",
    "                                    CmtTotScr.CommentsTotalScore\n",
    "                                FROM (\n",
    "                                    SELECT\n",
    "                                        PostID,\n",
    "                                        UserID,\n",
    "                                        SUM(Score) AS CommentsTotalScore\n",
    "                                    FROM Comments\n",
    "                                    GROUP BY PostID, UserID\n",
    "                                ) AS CmtTotScr\n",
    "                                JOIN Posts ON Posts.ID=CmtTotScr.PostID AND \n",
    "                                Posts.OwnerUserId=CmtTotScr.UserID\n",
    "                                WHERE Posts.PostTypeId=1\n",
    "                                ORDER BY CmtTotScr.CommentsTotalScore DESC\n",
    "                                LIMIT 10\n",
    "                                \"\"\",conn)"
   ]
  },
  {
   "cell_type": "markdown",
   "id": "fuzzy-teens",
   "metadata": {},
   "source": [
    "### Pandas functions solutions"
   ]
  },
  {
   "cell_type": "code",
   "execution_count": 46,
   "id": "thick-atlantic",
   "metadata": {},
   "outputs": [],
   "source": [
    "#I start with executing the inner query. I group data by PostId and UserId and\n",
    "#calculate a sum of Scores. Next I just rename the column to proper alias\n",
    "CmtTotScr = Comments.groupby(['PostId','UserId'])['Score'].sum().reset_index()\n",
    "CmtTotScr = CmtTotScr.rename(columns={'Score':'CommentsTotalScore'})\n",
    "\n",
    "#Subsequently I filter Posts table and join it with the CmtTotScr query\n",
    "#In the end I simply sort the table by CommentsTotalScore using mergesort to \n",
    "#preserve order of rows and select top 10 values \n",
    "Posts_where = Posts[Posts['PostTypeId']==1]\n",
    "join_query = pd.merge(Posts_where,CmtTotScr,left_on=['Id','OwnerUserId'],\n",
    "                      right_on=['PostId','UserId'])\n",
    "select_query = join_query[['Title','CommentsTotalScore']].sort_values('CommentsTotalScore',\n",
    "                        ascending = False, kind='mergesort').head(10).reset_index(drop=True)\n"
   ]
  },
  {
   "cell_type": "markdown",
   "id": "reasonable-hotel",
   "metadata": {},
   "source": [
    "The solution query result looks as follows:"
   ]
  },
  {
   "cell_type": "code",
   "execution_count": 47,
   "id": "distributed-gardening",
   "metadata": {
    "scrolled": true
   },
   "outputs": [
    {
     "data": {
      "text/html": [
       "<div>\n",
       "<style scoped>\n",
       "    .dataframe tbody tr th:only-of-type {\n",
       "        vertical-align: middle;\n",
       "    }\n",
       "\n",
       "    .dataframe tbody tr th {\n",
       "        vertical-align: top;\n",
       "    }\n",
       "\n",
       "    .dataframe thead th {\n",
       "        text-align: right;\n",
       "    }\n",
       "</style>\n",
       "<table border=\"1\" class=\"dataframe\">\n",
       "  <thead>\n",
       "    <tr style=\"text-align: right;\">\n",
       "      <th></th>\n",
       "      <th>Title</th>\n",
       "      <th>CommentsTotalScore</th>\n",
       "    </tr>\n",
       "  </thead>\n",
       "  <tbody>\n",
       "    <tr>\n",
       "      <th>0</th>\n",
       "      <td>How to intentionally get denied entry to the U...</td>\n",
       "      <td>75</td>\n",
       "    </tr>\n",
       "    <tr>\n",
       "      <th>1</th>\n",
       "      <td>How can I deal with people asking to switch se...</td>\n",
       "      <td>32</td>\n",
       "    </tr>\n",
       "    <tr>\n",
       "      <th>2</th>\n",
       "      <td>What is France's traditional costume?</td>\n",
       "      <td>26</td>\n",
       "    </tr>\n",
       "    <tr>\n",
       "      <th>3</th>\n",
       "      <td>What's the longest scheduled public bus ride i...</td>\n",
       "      <td>25</td>\n",
       "    </tr>\n",
       "    <tr>\n",
       "      <th>4</th>\n",
       "      <td>Can I have a watermelon in hand luggage?</td>\n",
       "      <td>25</td>\n",
       "    </tr>\n",
       "    <tr>\n",
       "      <th>5</th>\n",
       "      <td>How does President Trump's travel ban affect n...</td>\n",
       "      <td>25</td>\n",
       "    </tr>\n",
       "    <tr>\n",
       "      <th>6</th>\n",
       "      <td>Caught speeding 111 Mph (179 km/h) in Californ...</td>\n",
       "      <td>24</td>\n",
       "    </tr>\n",
       "    <tr>\n",
       "      <th>7</th>\n",
       "      <td>Returning US Citizen lost passport in Canada</td>\n",
       "      <td>23</td>\n",
       "    </tr>\n",
       "    <tr>\n",
       "      <th>8</th>\n",
       "      <td>Legalities and safety concerns of visiting pro...</td>\n",
       "      <td>20</td>\n",
       "    </tr>\n",
       "    <tr>\n",
       "      <th>9</th>\n",
       "      <td>India just demonetized all Rs 500 &amp; 1000 notes...</td>\n",
       "      <td>20</td>\n",
       "    </tr>\n",
       "  </tbody>\n",
       "</table>\n",
       "</div>"
      ],
      "text/plain": [
       "                                               Title  CommentsTotalScore\n",
       "0  How to intentionally get denied entry to the U...                  75\n",
       "1  How can I deal with people asking to switch se...                  32\n",
       "2              What is France's traditional costume?                  26\n",
       "3  What's the longest scheduled public bus ride i...                  25\n",
       "4           Can I have a watermelon in hand luggage?                  25\n",
       "5  How does President Trump's travel ban affect n...                  25\n",
       "6  Caught speeding 111 Mph (179 km/h) in Californ...                  24\n",
       "7       Returning US Citizen lost passport in Canada                  23\n",
       "8  Legalities and safety concerns of visiting pro...                  20\n",
       "9  India just demonetized all Rs 500 & 1000 notes...                  20"
      ]
     },
     "execution_count": 47,
     "metadata": {},
     "output_type": "execute_result"
    }
   ],
   "source": [
    "select_query"
   ]
  },
  {
   "cell_type": "markdown",
   "id": "greater-sigma",
   "metadata": {},
   "source": [
    "Lastly I compared my solution with the reference one and the obtained result is positive:"
   ]
  },
  {
   "cell_type": "code",
   "execution_count": 48,
   "id": "bulgarian-origin",
   "metadata": {},
   "outputs": [
    {
     "data": {
      "text/plain": [
       "True"
      ]
     },
     "execution_count": 48,
     "metadata": {},
     "output_type": "execute_result"
    }
   ],
   "source": [
    "third_query.equals(select_query)"
   ]
  },
  {
   "cell_type": "markdown",
   "id": "dutch-pillow",
   "metadata": {},
   "source": [
    "In the end I close the connection to my temportal database by calling a function:"
   ]
  },
  {
   "cell_type": "code",
   "execution_count": 49,
   "id": "vocational-difficulty",
   "metadata": {},
   "outputs": [],
   "source": [
    "conn.close()"
   ]
  },
  {
   "cell_type": "code",
   "execution_count": null,
   "id": "dietary-diabetes",
   "metadata": {},
   "outputs": [],
   "source": []
  }
 ],
 "metadata": {
  "kernelspec": {
   "display_name": "Python 3",
   "language": "python",
   "name": "python3"
  },
  "language_info": {
   "codemirror_mode": {
    "name": "ipython",
    "version": 3
   },
   "file_extension": ".py",
   "mimetype": "text/x-python",
   "name": "python",
   "nbconvert_exporter": "python",
   "pygments_lexer": "ipython3",
   "version": "3.8.4"
  }
 },
 "nbformat": 4,
 "nbformat_minor": 5
}
